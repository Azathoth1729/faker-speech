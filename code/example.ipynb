{
 "cells": [
  {
   "cell_type": "code",
   "execution_count": 1,
   "metadata": {},
   "outputs": [],
   "source": [
    "from faker import Faker\n",
    "fake = Faker('zh_CN')"
   ]
  },
  {
   "cell_type": "code",
   "execution_count": 2,
   "metadata": {},
   "outputs": [
    {
     "name": "stdout",
     "output_type": "stream",
     "text": [
      "赵萍\n",
      "沈丽\n",
      "蒋英\n"
     ]
    }
   ],
   "source": [
    "[print(fake.name()) for _ in range(3)];"
   ]
  },
  {
   "cell_type": "code",
   "execution_count": null,
   "metadata": {},
   "outputs": [],
   "source": [
    "[print(fake.address()) for _ in range(3)];"
   ]
  },
  {
   "cell_type": "code",
   "execution_count": null,
   "metadata": {},
   "outputs": [],
   "source": [
    "[print(fake.text()) for _ in range(1)];"
   ]
  },
  {
   "cell_type": "code",
   "execution_count": 5,
   "metadata": {},
   "outputs": [
    {
     "name": "stdout",
     "output_type": "stream",
     "text": [
      "Katelyn Zamora\n",
      "Kayla Stephenson\n",
      "Caitlin White\n",
      "全春梅\n",
      "Deborah Kelley\n",
      "田中 美加子\n",
      "袁斌\n",
      "董雷\n",
      "马燕\n",
      "罗淑珍\n"
     ]
    }
   ],
   "source": [
    "fake = Faker(['zh_CN', \"ja_JP\", \"en_US\"])\n",
    "[print(fake.name()) for _ in range(10)];"
   ]
  },
  {
   "cell_type": "code",
   "execution_count": 1,
   "metadata": {},
   "outputs": [],
   "source": [
    "from faker import Faker\n",
    "from faker_music import MusicProvider\n",
    "fake = Faker()\n",
    "fake.add_provider(MusicProvider)"
   ]
  },
  {
   "cell_type": "code",
   "execution_count": 2,
   "metadata": {},
   "outputs": [
    {
     "name": "stdout",
     "output_type": "stream",
     "text": [
      "Progressive\n",
      "College Rock\n",
      "Triccaballacca\n",
      "strings\n"
     ]
    }
   ],
   "source": [
    "print(fake.music_genre())\n",
    "print(fake.music_subgenre())\n",
    "print(fake.music_instrument())\n",
    "print(fake.music_instrument_category())"
   ]
  },
  {
   "cell_type": "code",
   "execution_count": null,
   "metadata": {},
   "outputs": [],
   "source": [
    "from faker.providers import BaseProvider\n",
    "from faker.providers import DynamicProvider"
   ]
  },
  {
   "cell_type": "code",
   "execution_count": null,
   "metadata": {},
   "outputs": [],
   "source": [
    "medical_professions_provider = DynamicProvider(\n",
    "     provider_name=\"medical_profession\",\n",
    "     elements=[\"dr.\", \"doctor\", \"nurse\", \"surgeon\", \"clerk\"],\n",
    ")\n",
    "\n",
    "fake = Faker()\n",
    "\n",
    "# then add new provider to faker instance\n",
    "fake.add_provider(medical_professions_provider)"
   ]
  },
  {
   "cell_type": "code",
   "execution_count": null,
   "metadata": {},
   "outputs": [],
   "source": [
    "for _ in range(10):\n",
    "    print(fake.medical_profession())"
   ]
  },
  {
   "cell_type": "code",
   "execution_count": 3,
   "metadata": {},
   "outputs": [],
   "source": [
    "a = [1,2,3], [2,3,4]"
   ]
  },
  {
   "cell_type": "code",
   "execution_count": null,
   "metadata": {},
   "outputs": [],
   "source": []
  }
 ],
 "metadata": {
  "interpreter": {
   "hash": "a9314f46a7119c16abb04bcfc9d1bafd6189eebcbb9ce9170c9a9902c6ccdf1d"
  },
  "kernelspec": {
   "display_name": "Python 3.7.11 64-bit ('data-science': conda)",
   "name": "python3"
  },
  "language_info": {
   "codemirror_mode": {
    "name": "ipython",
    "version": 3
   },
   "file_extension": ".py",
   "mimetype": "text/x-python",
   "name": "python",
   "nbconvert_exporter": "python",
   "pygments_lexer": "ipython3",
   "version": "3.9.7"
  },
  "orig_nbformat": 4
 },
 "nbformat": 4,
 "nbformat_minor": 2
}
