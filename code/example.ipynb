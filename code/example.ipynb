{
 "cells": [
  {
   "cell_type": "code",
   "execution_count": 1,
   "metadata": {},
   "outputs": [],
   "source": [
    "from faker import Faker\n",
    "fake = Faker('zh_CN')"
   ]
  },
  {
   "cell_type": "code",
   "execution_count": 2,
   "metadata": {},
   "outputs": [
    {
     "name": "stdout",
     "output_type": "stream",
     "text": [
      "王燕\n",
      "黄慧\n",
      "谭晨\n"
     ]
    }
   ],
   "source": [
    "[print(fake.name()) for _ in range(3)];"
   ]
  },
  {
   "cell_type": "code",
   "execution_count": 3,
   "metadata": {},
   "outputs": [
    {
     "name": "stdout",
     "output_type": "stream",
     "text": [
      "浙江省重庆市梁平合山街A座 798620\n",
      "澳门特别行政区平县华龙天津街w座 496798\n",
      "台湾省辛集县怀柔苏街H座 780742\n"
     ]
    }
   ],
   "source": [
    "[print(fake.address()) for _ in range(3)];"
   ]
  },
  {
   "cell_type": "code",
   "execution_count": 4,
   "metadata": {},
   "outputs": [
    {
     "name": "stdout",
     "output_type": "stream",
     "text": [
      "记者中心以下包括名称这样.\n",
      "使用规定系列为什开始信息文件产品.市场网络发现上海.部门威望这么特别.\n",
      "国家资源社会实现增加.帮助方法城市国际如此.\n",
      "软件一直北京方面以及.\n",
      "首页拥有业务经验完成.不能参加最大那个本站更新运行.\n",
      "国内不能空间同时积分类别.不是发表简介一起大家其他.计划电影是一最后东西基本谢谢国内.\n",
      "世界然后这个.\n",
      "位置能够发布.可是不过怎么深圳浏览.相关企业这样品牌如果知道有关.\n"
     ]
    }
   ],
   "source": [
    "[print(fake.text()) for _ in range(1)];"
   ]
  },
  {
   "cell_type": "code",
   "execution_count": 5,
   "metadata": {},
   "outputs": [
    {
     "name": "stdout",
     "output_type": "stream",
     "text": [
      "Gary Cook\n",
      "佐々木 春香\n",
      "郭秀兰\n",
      "张凤兰\n",
      "Gabriel Fisher\n",
      "Sabrina Alexander\n",
      "吉桂英\n",
      "James Chang\n",
      "Randy Barrera\n",
      "修秀荣\n"
     ]
    }
   ],
   "source": [
    "fake = Faker(['zh_CN', \"ja_JP\", \"en_US\"])\n",
    "[print(fake.name()) for _ in range(10)];"
   ]
  },
  {
   "cell_type": "code",
   "execution_count": 6,
   "metadata": {},
   "outputs": [],
   "source": [
    "from faker import Faker\n",
    "from faker_music import MusicProvider\n",
    "fake = Faker()\n",
    "fake.add_provider(MusicProvider)"
   ]
  },
  {
   "cell_type": "code",
   "execution_count": 7,
   "metadata": {},
   "outputs": [
    {
     "name": "stdout",
     "output_type": "stream",
     "text": [
      "Instrumental\n",
      "Orchestral Pop\n",
      "Laser harp\n",
      "strings\n"
     ]
    }
   ],
   "source": [
    "print(fake.music_genre())\n",
    "print(fake.music_subgenre())\n",
    "print(fake.music_instrument())\n",
    "print(fake.music_instrument_category())"
   ]
  },
  {
   "cell_type": "code",
   "execution_count": 9,
   "metadata": {},
   "outputs": [
    {
     "ename": "ImportError",
     "evalue": "cannot import name 'DynamicProvider' from 'faker.providers' (/home/azathoth/miniconda3/envs/data-science/lib/python3.8/site-packages/faker/providers/__init__.py)",
     "output_type": "error",
     "traceback": [
      "\u001b[0;31m---------------------------------------------------------------------------\u001b[0m",
      "\u001b[0;31mImportError\u001b[0m                               Traceback (most recent call last)",
      "\u001b[0;32m/tmp/ipykernel_19405/2501931018.py\u001b[0m in \u001b[0;36m<module>\u001b[0;34m\u001b[0m\n\u001b[1;32m      1\u001b[0m \u001b[0;32mfrom\u001b[0m \u001b[0mfaker\u001b[0m\u001b[0;34m.\u001b[0m\u001b[0mproviders\u001b[0m \u001b[0;32mimport\u001b[0m \u001b[0mBaseProvider\u001b[0m\u001b[0;34m\u001b[0m\u001b[0;34m\u001b[0m\u001b[0m\n\u001b[0;32m----> 2\u001b[0;31m \u001b[0;32mfrom\u001b[0m \u001b[0mfaker\u001b[0m\u001b[0;34m.\u001b[0m\u001b[0mproviders\u001b[0m \u001b[0;32mimport\u001b[0m \u001b[0mDynamicProvider\u001b[0m\u001b[0;34m\u001b[0m\u001b[0;34m\u001b[0m\u001b[0m\n\u001b[0m",
      "\u001b[0;31mImportError\u001b[0m: cannot import name 'DynamicProvider' from 'faker.providers' (/home/azathoth/miniconda3/envs/data-science/lib/python3.8/site-packages/faker/providers/__init__.py)"
     ]
    }
   ],
   "source": [
    "from faker.providers import BaseProvider\n",
    "from faker.providers import DynamicProvider"
   ]
  },
  {
   "cell_type": "code",
   "execution_count": null,
   "metadata": {},
   "outputs": [],
   "source": [
    "medical_professions_provider = DynamicProvider(\n",
    "     provider_name=\"medical_profession\",\n",
    "     elements=[\"dr.\", \"doctor\", \"nurse\", \"surgeon\", \"clerk\"],\n",
    ")\n",
    "\n",
    "fake = Faker()\n",
    "\n",
    "# then add new provider to faker instance\n",
    "fake.add_provider(medical_professions_provider)"
   ]
  },
  {
   "cell_type": "code",
   "execution_count": null,
   "metadata": {},
   "outputs": [],
   "source": [
    "for _ in range(10):\n",
    "    print(fake.medical_profession())"
   ]
  }
 ],
 "metadata": {
  "interpreter": {
   "hash": "a9314f46a7119c16abb04bcfc9d1bafd6189eebcbb9ce9170c9a9902c6ccdf1d"
  },
  "kernelspec": {
   "display_name": "Python 3.7.11 64-bit ('data-science': conda)",
   "name": "python3"
  },
  "language_info": {
   "codemirror_mode": {
    "name": "ipython",
    "version": 3
   },
   "file_extension": ".py",
   "mimetype": "text/x-python",
   "name": "python",
   "nbconvert_exporter": "python",
   "pygments_lexer": "ipython3",
   "version": "3.8.12"
  },
  "orig_nbformat": 4
 },
 "nbformat": 4,
 "nbformat_minor": 2
}
